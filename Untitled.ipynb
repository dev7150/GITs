{
 "cells": [
  {
   "cell_type": "code",
   "execution_count": 10,
   "metadata": {},
   "outputs": [],
   "source": [
    "import pandas as pd\n",
    "from bs4 import BeautifulSoup\n",
    "from urllib.request import Request, urlopen\n",
    "from urllib.error import URLError\n",
    "from IPython.display import HTML\n",
    "import re\n",
    "\n",
    "try:\n",
    "    request = urlopen('https://www.olbg.com/betting-tips')\n",
    "except URLError as e:\n",
    "    if hasattr(e, 'reason'):\n",
    "        print('We failed to reach a server.')\n",
    "        print('Reason: ', e.reason)\n",
    "    elif hasattr(e, 'code'):\n",
    "        print('The server couldn\\'t fulfill the request.')\n",
    "        print('Error code: ', e.code)\n",
    "else:\n",
    "    response = request.read()\n",
    "    soup = BeautifulSoup(response, \"lxml\")\n",
    "    #print((soup.text))"
   ]
  },
  {
   "cell_type": "code",
   "execution_count": 11,
   "metadata": {},
   "outputs": [],
   "source": [
    "#for link in soup.find_all('a'):\n",
    "    #print (link.get('href'))"
   ]
  },
  {
   "cell_type": "code",
   "execution_count": 12,
   "metadata": {},
   "outputs": [
    {
     "name": "stdout",
     "output_type": "stream",
     "text": [
      "Bayern Munich v Eintracht Frankfurt--Bayern Munich  \n",
      "Bayern Munich v Eintracht Frankfurt --TSG Hoffenheim  \n",
      "Paderborn v TSG Hoffenheim--SC Freiburg  \n",
      "Paderborn v TSG Hoffenheim --Borussia Dortmund  \n",
      "SC Freiburg v Werder Bremen--Suwon Bluewings  \n",
      "SC Freiburg v Werder Bremen --Over 2.50  \n",
      "Wolfsburg v Borussia Dortmund--Over 2.50  \n",
      "Wolfsburg v Borussia Dortmund --Borussia Mgladbach  \n",
      "Suwon Bluewings v Incheon Utd--Mighty Efate Panthers  \n",
      "Suwon Bluewings v Incheon Utd --Over 2.50  \n"
     ]
    }
   ],
   "source": [
    "teams  = soup.find_all('h5',class_='event-name')\n",
    "bets = soup.find_all('h4', class_='selection-name')\n",
    "\n",
    "for i in range(0, len(bets)):\n",
    "    \n",
    "    print(teams[i].text + \"--\" + bets[i].text)\n",
    "    #print(bets[i].text)"
   ]
  },
  {
   "cell_type": "code",
   "execution_count": 13,
   "metadata": {},
   "outputs": [
    {
     "name": "stdout",
     "output_type": "stream",
     "text": [
      "10\n"
     ]
    }
   ],
   "source": [
    "import requests\n",
    "url = 'https://www.olbg.com/betting-tips'\n",
    "header = {'User-Agent': 'Mozilla/5.0 (Macintosh; Intel Mac OS X 10_10_1) AppleWebKit/537.36 (KHTML, like Gecko) Chrome/39.0.2171.95 Safari/537.36'}\n",
    "\n",
    "response = requests.get(url,headers=header)\n",
    "soup = BeautifulSoup(response.text,'lxml')\n",
    "tables = soup.find_all('tr',class_='tip-row')\n",
    "print (len(tables))"
   ]
  },
  {
   "cell_type": "code",
   "execution_count": 14,
   "metadata": {},
   "outputs": [
    {
     "name": "stdout",
     "output_type": "stream",
     "text": [
      "Bayern Munich v Eintracht Frankfurt Bayern Munich  \n",
      "Bayern Munich v Eintracht Frankfurt  Bayern Munich  \n",
      "Paderborn v TSG Hoffenheim Bayern Munich  \n",
      "Paderborn v TSG Hoffenheim  Bayern Munich  \n",
      "SC Freiburg v Werder Bremen Bayern Munich  \n",
      "SC Freiburg v Werder Bremen  Bayern Munich  \n",
      "Wolfsburg v Borussia Dortmund Bayern Munich  \n",
      "Wolfsburg v Borussia Dortmund  Bayern Munich  \n",
      "Suwon Bluewings v Incheon Utd Bayern Munich  \n",
      "Suwon Bluewings v Incheon Utd  Bayern Munich  \n",
      "Borussia Mgladbach v Bayer Leverkusen Bayern Munich  \n",
      "Borussia Mgladbach v Bayer Leverkusen  Bayern Munich  \n",
      "Wolfsburg v Borussia Dortmund Bayern Munich  \n",
      "Wolfsburg v Borussia Dortmund  Bayern Munich  \n",
      "Borussia Mgladbach v Bayer Leverkusen Bayern Munich  \n",
      "Borussia Mgladbach v Bayer Leverkusen  Bayern Munich  \n",
      "Mighty Efate Panthers vs MT Bulls T10 Bayern Munich  \n",
      "Mighty Efate Panthers vs MT Bulls T10  Bayern Munich  \n",
      "SC Freiburg v Werder Bremen Bayern Munich  \n",
      "SC Freiburg v Werder Bremen  Bayern Munich  \n"
     ]
    }
   ],
   "source": [
    "l = soup.find_all('h5')\n",
    "\n",
    "for x in l:\n",
    "    b=soup.find('h4')\n",
    "    print(x.text,b.text)"
   ]
  },
  {
   "cell_type": "code",
   "execution_count": 15,
   "metadata": {},
   "outputs": [
    {
     "data": {
      "text/plain": [
       "14"
      ]
     },
     "execution_count": 15,
     "metadata": {},
     "output_type": "execute_result"
    }
   ],
   "source": [
    "b= soup.find_all('h4')\n",
    "len(b)"
   ]
  },
  {
   "cell_type": "code",
   "execution_count": 16,
   "metadata": {},
   "outputs": [
    {
     "name": "stdout",
     "output_type": "stream",
     "text": [
      "Bayern Munich v Eintracht Frankfurt,Bayern Munich  ,1.16 ,35 of 42 Win Tips \n",
      "Paderborn v TSG Hoffenheim,TSG Hoffenheim  ,2.15 ,22 of 36 Win Tips \n",
      "SC Freiburg v Werder Bremen,SC Freiburg  ,2.15 ,22 of 29 Win Tips \n",
      "Wolfsburg v Borussia Dortmund,Borussia Dortmund  ,1.80 ,21 of 32 Win Tips \n",
      "Suwon Bluewings v Incheon Utd,Suwon Bluewings  ,1.80 ,19 of 29 Win Tips \n",
      "Borussia Mgladbach v Bayer Leverkusen,Over 2.50  ,1.53 ,19 of 19 Win Tips \n",
      "Wolfsburg v Borussia Dortmund,Over 2.50  ,1.60 ,17 of 18 Win Tips \n",
      "Borussia Mgladbach v Bayer Leverkusen,Borussia Mgladbach  ,2.45 ,15 of 26 Win Tips \n",
      "Mighty Efate Panthers vs MT Bulls T10,Mighty Efate Panthers  ,1.80 ,14 of 21 Win Tips \n",
      "SC Freiburg v Werder Bremen,Over 2.50  ,1.73 ,13 of 13 Win Tips \n"
     ]
    }
   ],
   "source": [
    "for table in tables:\n",
    "    teams  = table.find('h5',class_='event-name')\n",
    "    bets = table.find('h4', class_='selection-name')\n",
    "    odds = table.find('td', class_='d-none d-md-table-cell text-center')\n",
    "    com = table.find('p', class_='tips')\n",
    "    print(teams.text+\",\"+bets.text+\",\"+odds.text+\",\"+com.text)"
   ]
  },
  {
   "cell_type": "code",
   "execution_count": 8,
   "metadata": {},
   "outputs": [
    {
     "name": "stdout",
     "output_type": "stream",
     "text": [
      "Bayern Munich  Bayern Munich v Eintracht Frankfurt\n",
      "TSG Hoffenheim  Paderborn v TSG Hoffenheim\n",
      "SC Freiburg  SC Freiburg v Werder Bremen\n",
      "Borussia Dortmund  Wolfsburg v Borussia Dortmund\n",
      "Suwon Bluewings  Suwon Bluewings v Incheon Utd\n",
      "Over 2.50  Borussia Mgladbach v Bayer Leverkusen\n",
      "Over 2.50  Wolfsburg v Borussia Dortmund\n",
      "Borussia Mgladbach  Borussia Mgladbach v Bayer Leverkusen\n",
      "Mighty Efate Panthers  Mighty Efate Panthers vs MT Bulls T10\n",
      "Over 2.50  SC Freiburg v Werder Bremen\n"
     ]
    }
   ],
   "source": [
    "for table in tables:\n",
    "    l = table.find('h4')\n",
    "    m = table.find('h5')\n",
    "    try:\n",
    "        print(l.text+m.text)\n",
    "    except:\n",
    "        continue"
   ]
  },
  {
   "cell_type": "code",
   "execution_count": 17,
   "metadata": {},
   "outputs": [
    {
     "name": "stdout",
     "output_type": "stream",
     "text": [
      "1\n",
      "0     EVENTS  SELECTION ODDS  TIPS & COMMENTS  VALUE RATING        Bayern Munich v Eintracht Frankfurt  Germany Bundesliga I   Today    17:30 Bayern Munich   Bayern Munich v Eintracht Frankfurt  Germany Bundesliga I   Today    17:30 1.16 35 of 42 Win Tips 83%    11 comments  1.16   35 / 42 Tips83%  11 comments     Paderborn v TSG Hoffenheim  Germany Bundesliga I   Today    14:30 TSG Hoffenheim    1 expertPaderborn v TSG Hoffenheim  Germany Bundesliga I   Today    14:30 2.15 22 of 36 Win Tips 61%    10 comments  2.15   22 / 36 Tips61%  10 comments     SC Freiburg v Werder Bremen  Germany Bundesliga I   Today    14:30 SC Freiburg    1 expertSC Freiburg v Werder Bremen  Germany Bundesliga I   Today    14:30 2.15 22 of 29 Win Tips 76%    10 comments  2.15   22 / 29 Tips76%  10 comments     Wolfsburg v Borussia Dortmund  Germany Bundesliga I   Today    14:30 Borussia Dortmund   Wolfsburg v Borussia Dortmund  Germany Bundesliga I   Today    14:30 1.80 21 of 32 Win Tips 66%    8 comments  1.80   21 / 32 Tips66%  8 comments     Suwon Bluewings v Incheon Utd  South Korea K League 1   Today    08:30 Suwon Bluewings    1 expertSuwon Bluewings v Incheon Utd  South Korea K League 1   Today    08:30 1.80 19 of 29 Win Tips 66%    11 comments  1.80   19 / 29 Tips66%  11 comments     Borussia Mgladbach v Bayer Leverkusen  Germany Bundesliga I   Today    14:30 Over 2.50    1 expertBorussia Mgladbach v Bayer Leverkusen  Germany Bundesliga I   Today    14:30 1.53 19 of 19 Win Tips 100%    12 comments  1.53   19 / 19 Tips100%  12 comments     Wolfsburg v Borussia Dortmund  Germany Bundesliga I   Today    14:30 Over 2.50   Wolfsburg v Borussia Dortmund  Germany Bundesliga I   Today    14:30 1.60 17 of 18 Win Tips 94%    8 comments  1.60   17 / 18 Tips94%  8 comments     Borussia Mgladbach v Bayer Leverkusen  Germany Bundesliga I   Today    14:30 Borussia Mgladbach   Borussia Mgladbach v Bayer Leverkusen  Germany Bundesliga I   Today    14:30 2.45 15 of 26 Win Tips 58%    7 comments  2.45   15 / 26 Tips58%  7 comments       Improve your Betting Swipe to see more of our bookie articles     Check All Articles       Best Odds Comparison 2020    Best Online Bookmaker for UFC & MMA Betting   Where to Watch Live Football Today (Inc Bundesliga & Premier League)   Virtual Sports Betting with Online Bookies   Best Bookies for eSports Betting   Best Betting Apps UK - Mobile [IOS & Android 2020]   Best Bookmakers For Live Streaming   Best Weekly Free Bet Clubs   27 Acca Insurance Bookies in 2020 | Best Acca Insurance   The Best Football Bookmakers   Best Betting Sites | Horse Racing   Both Teams to Score Bookmakers       Check All Articles        Mighty Efate Panthers vs MT Bulls T10   Today    05:00 Mighty Efate Panthers   Mighty Efate Panthers vs MT Bulls T10   Today    05:00 1.80 14 of 21 Win Tips 67%    7 comments  1.80   14 / 21 Tips67%  7 comments     SC Freiburg v Werder Bremen  Germany Bundesliga I   Today    14:30 Over 2.50    1 expertSC Freiburg v Werder Bremen  Germany Bundesliga I   Today    14:30 1.73 13 of 13 Win Tips 100%    11 comments  1.73   13 / 13 Tips100%  11 comments      Load More Tips...     \n"
     ]
    }
   ],
   "source": [
    "teams = soup.find_all('table',class_='sport-tips-table')\n",
    "print(len(teams))\n",
    "for i,team in enumerate(teams):\n",
    "    print (i,team.text)"
   ]
  },
  {
   "cell_type": "code",
   "execution_count": null,
   "metadata": {},
   "outputs": [],
   "source": []
  }
 ],
 "metadata": {
  "kernelspec": {
   "display_name": "Python 3",
   "language": "python",
   "name": "python3"
  },
  "language_info": {
   "codemirror_mode": {
    "name": "ipython",
    "version": 3
   },
   "file_extension": ".py",
   "mimetype": "text/x-python",
   "name": "python",
   "nbconvert_exporter": "python",
   "pygments_lexer": "ipython3",
   "version": "3.7.1"
  }
 },
 "nbformat": 4,
 "nbformat_minor": 2
}
